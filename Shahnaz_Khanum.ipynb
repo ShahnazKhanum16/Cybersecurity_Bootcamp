{
  "nbformat": 4,
  "nbformat_minor": 0,
  "metadata": {
    "colab": {
      "name": "Shahnaz Khanum.ipynb",
      "provenance": []
    },
    "kernelspec": {
      "name": "python3",
      "display_name": "Python 3"
    },
    "language_info": {
      "name": "python"
    }
  },
  "cells": [
    {
      "cell_type": "code",
      "metadata": {
        "id": "4JpVJ2Igj9Fv"
      },
      "source": [
        "import requests"
      ],
      "execution_count": 1,
      "outputs": []
    },
    {
      "cell_type": "code",
      "metadata": {
        "id": "mzsbl2bOn_yn"
      },
      "source": [
        "#import os"
      ],
      "execution_count": 2,
      "outputs": []
    },
    {
      "cell_type": "code",
      "metadata": {
        "id": "mx628lL9oFod"
      },
      "source": [
        "from datetime import datetime"
      ],
      "execution_count": 3,
      "outputs": []
    },
    {
      "cell_type": "code",
      "metadata": {
        "id": "nhxWS8nhod_A"
      },
      "source": [
        "api_key = 'e2fd367104172fa42358ec913a38b057'"
      ],
      "execution_count": 4,
      "outputs": []
    },
    {
      "cell_type": "code",
      "metadata": {
        "colab": {
          "base_uri": "https://localhost:8080/"
        },
        "id": "TsoED1iQorOQ",
        "outputId": "a4e041b7-55c0-4252-cb45-f0ac0e628fae"
      },
      "source": [
        "location = input(\"Enter the city name: \")"
      ],
      "execution_count": 5,
      "outputs": [
        {
          "output_type": "stream",
          "text": [
            "Enter the city name: goa\n"
          ],
          "name": "stdout"
        }
      ]
    },
    {
      "cell_type": "code",
      "metadata": {
        "id": "vAw3WZ6xoudb"
      },
      "source": [
        "complete_api_link = \"https://api.openweathermap.org/data/2.5/weather?q=\"+location+\"&appid=\"+api_key"
      ],
      "execution_count": 6,
      "outputs": []
    },
    {
      "cell_type": "code",
      "metadata": {
        "id": "g_uIQ3S9o3JJ"
      },
      "source": [
        "api_link = requests.get(complete_api_link)"
      ],
      "execution_count": 7,
      "outputs": []
    },
    {
      "cell_type": "code",
      "metadata": {
        "id": "sC7qwOgTo-YD"
      },
      "source": [
        "api_data = api_link.json()"
      ],
      "execution_count": 8,
      "outputs": []
    },
    {
      "cell_type": "code",
      "metadata": {
        "id": "yVGGbcogpNGs"
      },
      "source": [
        "temp_city = ((api_data['main']['temp']) - 273.15)"
      ],
      "execution_count": 9,
      "outputs": []
    },
    {
      "cell_type": "code",
      "metadata": {
        "id": "ZypZev1TpUIJ"
      },
      "source": [
        "weather_desc = api_data['weather'][0]['description']"
      ],
      "execution_count": 10,
      "outputs": []
    },
    {
      "cell_type": "code",
      "metadata": {
        "id": "S6badIrGpcyr"
      },
      "source": [
        "hmdt = api_data['main']['humidity']"
      ],
      "execution_count": 11,
      "outputs": []
    },
    {
      "cell_type": "code",
      "metadata": {
        "id": "oHFvAYCbpm75"
      },
      "source": [
        "wind_spd = api_data['wind']['speed']"
      ],
      "execution_count": 12,
      "outputs": []
    },
    {
      "cell_type": "code",
      "metadata": {
        "id": "C5Ky2pUqpr-f"
      },
      "source": [
        "date_time = datetime.now().strftime(\"%d %b %Y | %I:%M:%S %p\")"
      ],
      "execution_count": 13,
      "outputs": []
    },
    {
      "cell_type": "code",
      "metadata": {
        "colab": {
          "base_uri": "https://localhost:8080/"
        },
        "id": "Vlm_n6IIpxkK",
        "outputId": "131b548d-4d80-48d1-e9c7-cc7ce924268a"
      },
      "source": [
        "print (\"-------------------------------------------------------------\")"
      ],
      "execution_count": 14,
      "outputs": [
        {
          "output_type": "stream",
          "text": [
            "-------------------------------------------------------------\n"
          ],
          "name": "stdout"
        }
      ]
    },
    {
      "cell_type": "code",
      "metadata": {
        "colab": {
          "base_uri": "https://localhost:8080/"
        },
        "id": "zaVmTNfMp2yC",
        "outputId": "8e421beb-e559-41ef-d9cb-cd17cbad9a71"
      },
      "source": [
        "print (\"Weather Stats for - {}  || {}\".format(location.upper(), date_time))"
      ],
      "execution_count": 15,
      "outputs": [
        {
          "output_type": "stream",
          "text": [
            "Weather Stats for - GOA  || 23 Jun 2021 | 10:04:44 AM\n"
          ],
          "name": "stdout"
        }
      ]
    },
    {
      "cell_type": "code",
      "metadata": {
        "colab": {
          "base_uri": "https://localhost:8080/"
        },
        "id": "Us1vnj5OqFGN",
        "outputId": "9310c6d6-b473-4ece-ac6f-8e6f425aeabb"
      },
      "source": [
        "print (\"-------------------------------------------------------------\")"
      ],
      "execution_count": 16,
      "outputs": [
        {
          "output_type": "stream",
          "text": [
            "-------------------------------------------------------------\n"
          ],
          "name": "stdout"
        }
      ]
    },
    {
      "cell_type": "code",
      "metadata": {
        "colab": {
          "base_uri": "https://localhost:8080/"
        },
        "id": "tBNOllLIqRPN",
        "outputId": "ec951526-4fff-4fc5-d89b-f2aa25fefde5"
      },
      "source": [
        "print (\"Current temperature is: {:.2f} deg C\".format(temp_city))"
      ],
      "execution_count": 17,
      "outputs": [
        {
          "output_type": "stream",
          "text": [
            "Current temperature is: 29.04 deg C\n"
          ],
          "name": "stdout"
        }
      ]
    },
    {
      "cell_type": "code",
      "metadata": {
        "colab": {
          "base_uri": "https://localhost:8080/"
        },
        "id": "RGTVgqXlqV1s",
        "outputId": "a8e555de-5af6-45c8-c3df-a0abefc9868f"
      },
      "source": [
        "print (\"Current weather desc  :\",weather_desc)"
      ],
      "execution_count": 18,
      "outputs": [
        {
          "output_type": "stream",
          "text": [
            "Current weather desc  : overcast clouds\n"
          ],
          "name": "stdout"
        }
      ]
    },
    {
      "cell_type": "code",
      "metadata": {
        "colab": {
          "base_uri": "https://localhost:8080/"
        },
        "id": "rk-WUDNzqaHT",
        "outputId": "46c3921c-c53f-43b1-c550-1957b1693993"
      },
      "source": [
        "print (\"Current Humidity      :\",hmdt, '%')"
      ],
      "execution_count": 19,
      "outputs": [
        {
          "output_type": "stream",
          "text": [
            "Current Humidity      : 68 %\n"
          ],
          "name": "stdout"
        }
      ]
    },
    {
      "cell_type": "code",
      "metadata": {
        "colab": {
          "base_uri": "https://localhost:8080/"
        },
        "id": "N6sGEUtdqgVl",
        "outputId": "71f9f713-415e-4738-f4c7-41239e6513d5"
      },
      "source": [
        "print (\"Current wind speed    :\",wind_spd ,'kmph')"
      ],
      "execution_count": 20,
      "outputs": [
        {
          "output_type": "stream",
          "text": [
            "Current wind speed    : 3.9 kmph\n"
          ],
          "name": "stdout"
        }
      ]
    }
  ]
}